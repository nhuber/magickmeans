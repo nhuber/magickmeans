{
 "cells": [
  {
   "cell_type": "markdown",
   "metadata": {},
   "source": [
    "# Using PCA to visualize the MtG universe\n",
    "\n",
    "In this notebook, we're going to scrape Magic the Gathering's <a href=\"http://gatherer.wizards.com/Pages/Default.aspx\" target=\"_blank\">Gatherer</a> card database and then perform <a href=\"http://en.wikipedia.org/wiki/Principal_component_analysis\" target=\"_blank\">principal components analysis</a> to visualize hidden relationships between cards. Ultimately, our goal will be to see how much of variations between cards can be simplified and then plotted in two-dimensions.\n",
    "\n",
    "<img src=\"http://thisisinfamous.com/wp-content/uploads/2014/01/Magic-The-Gathering-Duels-of-the-Planeswalkers-2012.jpg\" style=\"max-height:300px\">\n",
    "\n",
    "A dataset of Magic cards is incredibly high-dimensional -- there are over a 100 unique mechanics in the game and the game state has many different elements (hand, battlefield, mana pool, etc.). Being able to translate the <a href=\"http://mtgsalvation.gamepedia.com/Magic:_The_Gathering_statistics_and_trivia?cookieSetup=true\" target=\"_blank\">13,000 unique card texts</a> into structured data is also a challenge NLP-related task."
   ]
  },
  {
   "cell_type": "markdown",
   "metadata": {},
   "source": [
    "##Warning: This notebook is long...so, for the impatient:\n",
    "\n",
    "Here is what we will be working towards:\n",
    "\n",
    "<img src=\"./pca2.png\">"
   ]
  },
  {
   "cell_type": "markdown",
   "metadata": {},
   "source": [
    "Pretty baller, right? We will interpret and grok this graph later, but for now, let's do this...\n",
    "\n",
    "LEERRRROOYYY JENNNKIINNNNNSSS"
   ]
  },
  {
   "cell_type": "markdown",
   "metadata": {},
   "source": [
    "## Outline\n",
    "Here's a breakdown of the four steps that we'll go through to accomplish this task:\n",
    "1. Scrape + clean the data using `requests`, `web` from `pattern`, and `pandas`\n",
    "- Extract features from the data using `fuzzywuzzy` and domain knowledge\n",
    "- Perform and analyze PCA using `sklearn`\n",
    "- Visualize + interpret results using the `plotly` graphing library"
   ]
  },
  {
   "cell_type": "markdown",
   "metadata": {},
   "source": [
    "*First some boring imports and settings (feel free to skip over)*"
   ]
  },
  {
   "cell_type": "code",
   "execution_count": 764,
   "metadata": {
    "collapsed": false
   },
   "outputs": [],
   "source": [
    "# boring imports\n",
    "\n",
    "%matplotlib inline\n",
    "import numpy as np\n",
    "import pandas as pd\n",
    "import matplotlib.pylab as plt\n",
    "\n",
    "import requests\n",
    "from pattern import web\n",
    "requests.packages.urllib3.disable_warnings()\n",
    "\n",
    "import re, string\n",
    "from sets import Set\n",
    "from collections import Counter\n",
    "from fuzzywuzzy import fuzz\n",
    "\n",
    "database = {}\n",
    "\n",
    "# Silly helper functions\n",
    "\n",
    "def isInt(s):\n",
    "    try: \n",
    "        int(s)\n",
    "        return True\n",
    "    except ValueError:\n",
    "        return False\n",
    "\n",
    "def anyIntOrColor(l):\n",
    "    for val in l:\n",
    "        if isInt(val) | (val in ['Black', 'Red', 'Green', 'Blue', 'White']) : return True\n",
    "    return False"
   ]
  },
  {
   "cell_type": "markdown",
   "metadata": {},
   "source": [
    "# (1) -- Scrape baby, scrape\n",
    "\n",
    "Our first order of business is scraping the data from the Gatherer database using `requests` and `web` from `pattern`. In it's simplest form, every Magic card has a name, text, type, mana cost, and power/toughness (if it's a creature). An example is Hypnotic Specter, a powerful creature in the early days of Magic:\n",
    "\n",
    "<img src=\"./hyppy.png\" style=\"margin: auto; display:block; height: 300px;\">\n",
    "\n",
    "To scrape the relevant card features, we will construct card URLs using the card's `multiverse_id` and on the page we load will look for unique HTML elements that correspond to each of the features we will to obtain."
   ]
  },
  {
   "cell_type": "code",
   "execution_count": 765,
   "metadata": {
    "collapsed": false
   },
   "outputs": [],
   "source": [
    "# grabCard scrapes:\n",
    "\n",
    "# name, types, text (lowered, alphanumeritized), mana cost,\n",
    "# cmc, power and toughness, and rarity.\n",
    "\n",
    "# and adds it to the global card database\n",
    "\n",
    "def grabCard(multiverse_id):\n",
    "    xml = \"http://gatherer.wizards.com/Pages/Card/Details.aspx?multiverseid=\" + str(multiverse_id)\n",
    "    dom = web.Element(requests.get(xml).text)\n",
    "    \n",
    "    # card name, card type\n",
    "    cardName = dom('div.cardImage img')[0].attributes['alt'] if dom('div .cardImage img') else ''\n",
    "    cardType = [element.strip() for element in \\\n",
    "                dom('div#ctl00_ctl00_ctl00_MainContent_SubContent_SubContent_typeRow div.value')[0].content.split(u'\\u2014')]\n",
    "    \n",
    "    # extract, parse, clean text into a list\n",
    "    cardText = []\n",
    "    pattern = re.compile('[\\W_]+')\n",
    "    for line in dom('div.cardtextbox'):\n",
    "        for element in line:\n",
    "            cardText.append(element)\n",
    "    \n",
    "    for i in xrange(len(cardText)):\n",
    "        if cardText[i].type == 'element' and cardText[i].tag == 'img':\n",
    "            cardText[i] = cardText[i].attributes['alt']\n",
    "        else:\n",
    "            cardText[i] = str(cardText[i]).strip().lower()\n",
    "        pattern.sub('', cardText[i]) \n",
    "    \n",
    "    # mana symbols\n",
    "    manaCost = [element.attributes['alt'] for element in dom('div#ctl00_ctl00_ctl00_MainContent_SubContent_SubContent_manaRow div.value img')]\n",
    "    cmc = int(dom('div#ctl00_ctl00_ctl00_MainContent_SubContent_SubContent_cmcRow div.value')[0].content.strip()) \\\n",
    "            if dom('div#ctl00_ctl00_ctl00_MainContent_SubContent_SubContent_cmcRow div.value') else np.nan\n",
    "    \n",
    "    # rarity\n",
    "    rarity = dom('div #ctl00_ctl00_ctl00_MainContent_SubContent_SubContent_rarityRow div.value span')[0].content.lower()\n",
    "    \n",
    "    # p/t\n",
    "    power = np.nan\n",
    "    power = [_.strip() for _ in dom('div#ctl00_ctl00_ctl00_MainContent_SubContent_SubContent_ptRow div.value')[0].content.split(' / ')][0] \\\n",
    "                if dom('div#ctl00_ctl00_ctl00_MainContent_SubContent_SubContent_ptRow div.value') else np.nan\n",
    "    power = float(power) if power != '*' and power != np.nan else np.nan\n",
    "    toughness = [_.strip() for _ in dom('div#ctl00_ctl00_ctl00_MainContent_SubContent_SubContent_ptRow div.value')[0].content.split(' / ')][1] \\\n",
    "                    if dom('div#ctl00_ctl00_ctl00_MainContent_SubContent_SubContent_ptRow div.value') else np.nan\n",
    "    toughness = float(toughness) if (toughness != '*' and toughness != '7-*' and toughness != np.nan) else np.nan\n",
    "      \n",
    "    # add data\n",
    "    database[cardName] = {\n",
    "                            'cardType' : cardType,\n",
    "                            'cardText' : cardText,\n",
    "                            'manaCost' : manaCost,\n",
    "                            'cmc' : cmc,\n",
    "                            'rarity': rarity,\n",
    "                            'power' : power,\n",
    "                            'toughness' : toughness\n",
    "                         }"
   ]
  },
  {
   "cell_type": "markdown",
   "metadata": {},
   "source": [
    "## Do the scraping\n",
    "\n",
    "We'll iterate through a range of `multiverse_id`s to scrape a desired amount of cards. Note that it takes around 1 minute/500 `multiverse_id`s. Given that there are 13k+ cards (and multiple versions of each -- see below), we'll limit our scraping to ~500 cards from the very first Magic set: <a href=\"http://en.wikipedia.org/wiki/Limited_Edition_%28Magic:_The_Gathering%29\" target=\"_blank\">Alpha</a>."
   ]
  },
  {
   "cell_type": "code",
   "execution_count": 766,
   "metadata": {
    "collapsed": false,
    "scrolled": true
   },
   "outputs": [
    {
     "name": "stdout",
     "output_type": "stream",
     "text": [
      "grabbed 100\n",
      "grabbed 200\n",
      "grabbed 300\n",
      "grabbed 400\n",
      "grabbed 500\n",
      "Done!\n"
     ]
    }
   ],
   "source": [
    "cardsToScrape = 600\n",
    "\n",
    "for i in xrange(1, cardsToScrape):\n",
    "    if (i % 100 == 0): print \"grabbed \" + str(i)\n",
    "    grabCard(i)\n",
    "\n",
    "print \"Done!\""
   ]
  },
  {
   "cell_type": "markdown",
   "metadata": {},
   "source": [
    "At this point, we now have roughly `cardsToScrape` cards and associated values in a local `dict` using the `cardName` as the key. (Note that we have less than `cardsToScrape` as we're iterating over `multiverse_id`s and some ids don't actually match to a card page.)\n",
    "\n",
    "### Note for potential future work\n",
    "\n",
    "*There are other aspects represented on the Gatherer database such as set and community ratings but we leave this to future work. Annoyingly, for cards in multiple sets, the card will have a different page (and subsequently different set of ratings) for each set; though this would require more work, it'd be super interesting if you could predict a card's community interest (# ratings) and favorability (average rating).*"
   ]
  },
  {
   "cell_type": "markdown",
   "metadata": {},
   "source": [
    "### Making the data usable\n",
    "\n",
    "We'll now put this into a `pandas` dataframe for cleaning, variable creation and initial analysis/spot checking/understanding."
   ]
  },
  {
   "cell_type": "code",
   "execution_count": 767,
   "metadata": {
    "collapsed": false
   },
   "outputs": [
    {
     "data": {
      "text/html": [
       "<div style=\"max-height:1000px;max-width:1500px;overflow:auto;\">\n",
       "<table border=\"1\" class=\"dataframe\">\n",
       "  <thead>\n",
       "    <tr style=\"text-align: right;\">\n",
       "      <th></th>\n",
       "      <th>toughness</th>\n",
       "      <th>power</th>\n",
       "      <th>cmc</th>\n",
       "      <th>rarity</th>\n",
       "      <th>cardType</th>\n",
       "      <th>cardText</th>\n",
       "      <th>manaCost</th>\n",
       "      <th>cardName</th>\n",
       "    </tr>\n",
       "  </thead>\n",
       "  <tbody>\n",
       "    <tr>\n",
       "      <th>Air Elemental</th>\n",
       "      <td>4</td>\n",
       "      <td>4</td>\n",
       "      <td>5</td>\n",
       "      <td>uncommon</td>\n",
       "      <td>[Creature, Elemental]</td>\n",
       "      <td>[flying]</td>\n",
       "      <td>[3, Blue, Blue]</td>\n",
       "      <td>Air Elemental</td>\n",
       "    </tr>\n",
       "    <tr>\n",
       "      <th>Ancestral Recall</th>\n",
       "      <td>NaN</td>\n",
       "      <td>NaN</td>\n",
       "      <td>1</td>\n",
       "      <td>rare</td>\n",
       "      <td>[Instant]</td>\n",
       "      <td>[target player draws three cards.]</td>\n",
       "      <td>[Blue]</td>\n",
       "      <td>Ancestral Recall</td>\n",
       "    </tr>\n",
       "    <tr>\n",
       "      <th>...</th>\n",
       "      <td>...</td>\n",
       "      <td>...</td>\n",
       "      <td>...</td>\n",
       "      <td>...</td>\n",
       "      <td>...</td>\n",
       "      <td>...</td>\n",
       "      <td>...</td>\n",
       "      <td>...</td>\n",
       "    </tr>\n",
       "    <tr>\n",
       "      <th>Wrath of God</th>\n",
       "      <td>NaN</td>\n",
       "      <td>NaN</td>\n",
       "      <td>4</td>\n",
       "      <td>rare</td>\n",
       "      <td>[Sorcery]</td>\n",
       "      <td>[destroy all creatures. they can't be regenera...</td>\n",
       "      <td>[2, White, White]</td>\n",
       "      <td>Wrath of God</td>\n",
       "    </tr>\n",
       "    <tr>\n",
       "      <th>Zombie Master</th>\n",
       "      <td>3</td>\n",
       "      <td>2</td>\n",
       "      <td>3</td>\n",
       "      <td>rare</td>\n",
       "      <td>[Creature, Zombie]</td>\n",
       "      <td>[other zombie creatures have swampwalk., other...</td>\n",
       "      <td>[1, Black, Black]</td>\n",
       "      <td>Zombie Master</td>\n",
       "    </tr>\n",
       "  </tbody>\n",
       "</table>\n",
       "<p>296 rows × 8 columns</p>\n",
       "</div>"
      ],
      "text/plain": [
       "                  toughness  power  cmc    rarity               cardType  \\\n",
       "Air Elemental             4      4    5  uncommon  [Creature, Elemental]   \n",
       "Ancestral Recall        NaN    NaN    1      rare              [Instant]   \n",
       "...                     ...    ...  ...       ...                    ...   \n",
       "Wrath of God            NaN    NaN    4      rare              [Sorcery]   \n",
       "Zombie Master             3      2    3      rare     [Creature, Zombie]   \n",
       "\n",
       "                                                           cardText  \\\n",
       "Air Elemental                                              [flying]   \n",
       "Ancestral Recall                 [target player draws three cards.]   \n",
       "...                                                             ...   \n",
       "Wrath of God      [destroy all creatures. they can't be regenera...   \n",
       "Zombie Master     [other zombie creatures have swampwalk., other...   \n",
       "\n",
       "                           manaCost          cardName  \n",
       "Air Elemental       [3, Blue, Blue]     Air Elemental  \n",
       "Ancestral Recall             [Blue]  Ancestral Recall  \n",
       "...                             ...               ...  \n",
       "Wrath of God      [2, White, White]      Wrath of God  \n",
       "Zombie Master     [1, Black, Black]     Zombie Master  \n",
       "\n",
       "[296 rows x 8 columns]"
      ]
     },
     "execution_count": 767,
     "metadata": {},
     "output_type": "execute_result"
    }
   ],
   "source": [
    "data = pd.DataFrame.from_dict(database, orient='index')\n",
    "data['cardName'] = data.index\n",
    "data"
   ]
  },
  {
   "cell_type": "markdown",
   "metadata": {},
   "source": [
    "# (2) -- Feature extraction"
   ]
  },
  {
   "cell_type": "markdown",
   "metadata": {
    "collapsed": false,
    "scrolled": false
   },
   "source": [
    "Based on our domain knowledge, we're going to extract four main types of features for each card:\n",
    "1. **Mana cost**/amounts of a card\n",
    "2. **Categorical features** -- type (i.e. Artifact, Creature, etc.) and rarity (i.e. Common, Uncommon, etc.)\n",
    "3. **Text features** based on the card's text (i.e. \"When this creature enters the battlefield...\")\n",
    "4. **Functional features** -- having a Tap ability, being a mana generator, etc."
   ]
  },
  {
   "cell_type": "code",
   "execution_count": 768,
   "metadata": {
    "collapsed": true
   },
   "outputs": [],
   "source": [
    "# Which features do we want to use?\n",
    "# All enabled by default, mana features required\n",
    "\n",
    "categoricalFeatures = True\n",
    "textFeatures = True\n",
    "functionalFeatures = True"
   ]
  },
  {
   "cell_type": "markdown",
   "metadata": {},
   "source": [
    "## (2.1) -- Mana features"
   ]
  },
  {
   "cell_type": "code",
   "execution_count": 769,
   "metadata": {
    "collapsed": false
   },
   "outputs": [],
   "source": [
    "# Create mana features\n",
    "\n",
    "colorlessMana = []\n",
    "colorless = []\n",
    "\n",
    "for row in data['manaCost']:\n",
    "    found = 0\n",
    "    for val in row:\n",
    "        if isInt(val):\n",
    "            colorlessMana.append(float(val))\n",
    "            found = 1\n",
    "    if found == 0:\n",
    "        colorlessMana.append(0)\n",
    "\n",
    "data['colorlessMana'] = colorlessMana \n",
    "data['Variable Colorless'] = [1 if 'Variable Colorless' in text else 0 for text in data['manaCost']]"
   ]
  },
  {
   "cell_type": "code",
   "execution_count": 770,
   "metadata": {
    "collapsed": false
   },
   "outputs": [],
   "source": [
    "# Find color (ignores multicolor)\n",
    "\n",
    "def isColorless(l):\n",
    "    for val in l:\n",
    "        if val in manaSymbols: return False\n",
    "    return True\n",
    "\n",
    "data['Artifact'] = [1 if isColorless(x) else 0 for x in data['manaCost']]\n",
    "\n",
    "def findColor(l):\n",
    "    for val in l:\n",
    "        if not isInt(val) and val != 'Variable Colorless': return val\n",
    "    return 'Artifact'\n",
    "\n",
    "data['color'] = [findColor(l) for l in data['manaCost']]"
   ]
  },
  {
   "cell_type": "code",
   "execution_count": 771,
   "metadata": {
    "collapsed": false
   },
   "outputs": [
    {
     "data": {
      "text/html": [
       "<div style=\"max-height:1000px;max-width:1500px;overflow:auto;\">\n",
       "<table border=\"1\" class=\"dataframe\">\n",
       "  <thead>\n",
       "    <tr style=\"text-align: right;\">\n",
       "      <th></th>\n",
       "      <th></th>\n",
       "      <th>Artifact</th>\n",
       "      <th>Black</th>\n",
       "      <th>Blue</th>\n",
       "      <th>Green</th>\n",
       "      <th>Red</th>\n",
       "      <th>Variable Colorless</th>\n",
       "      <th>White</th>\n",
       "      <th>cmc</th>\n",
       "      <th>colorlessMana</th>\n",
       "      <th>mana_Black</th>\n",
       "      <th>mana_Blue</th>\n",
       "      <th>mana_Green</th>\n",
       "      <th>mana_Red</th>\n",
       "      <th>mana_White</th>\n",
       "      <th>power</th>\n",
       "      <th>toughness</th>\n",
       "    </tr>\n",
       "    <tr>\n",
       "      <th>color</th>\n",
       "      <th></th>\n",
       "      <th></th>\n",
       "      <th></th>\n",
       "      <th></th>\n",
       "      <th></th>\n",
       "      <th></th>\n",
       "      <th></th>\n",
       "      <th></th>\n",
       "      <th></th>\n",
       "      <th></th>\n",
       "      <th></th>\n",
       "      <th></th>\n",
       "      <th></th>\n",
       "      <th></th>\n",
       "      <th></th>\n",
       "      <th></th>\n",
       "      <th></th>\n",
       "    </tr>\n",
       "  </thead>\n",
       "  <tbody>\n",
       "    <tr>\n",
       "      <th rowspan=\"2\" valign=\"top\">Artifact</th>\n",
       "      <th>count</th>\n",
       "      <td>62</td>\n",
       "      <td>62</td>\n",
       "      <td>62</td>\n",
       "      <td>62</td>\n",
       "      <td>62</td>\n",
       "      <td>62</td>\n",
       "      <td>62</td>\n",
       "      <td>47.000000</td>\n",
       "      <td>62.000000</td>\n",
       "      <td>62</td>\n",
       "      <td>62</td>\n",
       "      <td>62</td>\n",
       "      <td>62</td>\n",
       "      <td>62.00</td>\n",
       "      <td>5.0</td>\n",
       "      <td>5.0</td>\n",
       "    </tr>\n",
       "    <tr>\n",
       "      <th>mean</th>\n",
       "      <td>1</td>\n",
       "      <td>0</td>\n",
       "      <td>0</td>\n",
       "      <td>0</td>\n",
       "      <td>0</td>\n",
       "      <td>0</td>\n",
       "      <td>0</td>\n",
       "      <td>2.361702</td>\n",
       "      <td>1.790323</td>\n",
       "      <td>0</td>\n",
       "      <td>0</td>\n",
       "      <td>0</td>\n",
       "      <td>0</td>\n",
       "      <td>0.00</td>\n",
       "      <td>2.4</td>\n",
       "      <td>5.0</td>\n",
       "    </tr>\n",
       "    <tr>\n",
       "      <th>...</th>\n",
       "      <th>...</th>\n",
       "      <td>...</td>\n",
       "      <td>...</td>\n",
       "      <td>...</td>\n",
       "      <td>...</td>\n",
       "      <td>...</td>\n",
       "      <td>...</td>\n",
       "      <td>...</td>\n",
       "      <td>...</td>\n",
       "      <td>...</td>\n",
       "      <td>...</td>\n",
       "      <td>...</td>\n",
       "      <td>...</td>\n",
       "      <td>...</td>\n",
       "      <td>...</td>\n",
       "      <td>...</td>\n",
       "      <td>...</td>\n",
       "    </tr>\n",
       "    <tr>\n",
       "      <th rowspan=\"2\" valign=\"top\">White</th>\n",
       "      <th>75%</th>\n",
       "      <td>0</td>\n",
       "      <td>0</td>\n",
       "      <td>0</td>\n",
       "      <td>0</td>\n",
       "      <td>0</td>\n",
       "      <td>0</td>\n",
       "      <td>1</td>\n",
       "      <td>3.000000</td>\n",
       "      <td>1.000000</td>\n",
       "      <td>0</td>\n",
       "      <td>0</td>\n",
       "      <td>0</td>\n",
       "      <td>0</td>\n",
       "      <td>1.75</td>\n",
       "      <td>3.0</td>\n",
       "      <td>4.5</td>\n",
       "    </tr>\n",
       "    <tr>\n",
       "      <th>max</th>\n",
       "      <td>0</td>\n",
       "      <td>0</td>\n",
       "      <td>0</td>\n",
       "      <td>0</td>\n",
       "      <td>0</td>\n",
       "      <td>1</td>\n",
       "      <td>1</td>\n",
       "      <td>6.000000</td>\n",
       "      <td>3.000000</td>\n",
       "      <td>0</td>\n",
       "      <td>0</td>\n",
       "      <td>0</td>\n",
       "      <td>0</td>\n",
       "      <td>3.00</td>\n",
       "      <td>6.0</td>\n",
       "      <td>6.0</td>\n",
       "    </tr>\n",
       "  </tbody>\n",
       "</table>\n",
       "<p>48 rows × 16 columns</p>\n",
       "</div>"
      ],
      "text/plain": [
       "                Artifact  Black  Blue  Green  Red  Variable Colorless  White  \\\n",
       "color                                                                          \n",
       "Artifact count        62     62    62     62   62                  62     62   \n",
       "         mean          1      0     0      0    0                   0      0   \n",
       "...                  ...    ...   ...    ...  ...                 ...    ...   \n",
       "White    75%           0      0     0      0    0                   0      1   \n",
       "         max           0      0     0      0    0                   1      1   \n",
       "\n",
       "                      cmc  colorlessMana  mana_Black  mana_Blue  mana_Green  \\\n",
       "color                                                                         \n",
       "Artifact count  47.000000      62.000000          62         62          62   \n",
       "         mean    2.361702       1.790323           0          0           0   \n",
       "...                   ...            ...         ...        ...         ...   \n",
       "White    75%     3.000000       1.000000           0          0           0   \n",
       "         max     6.000000       3.000000           0          0           0   \n",
       "\n",
       "                mana_Red  mana_White  power  toughness  \n",
       "color                                                   \n",
       "Artifact count        62       62.00    5.0        5.0  \n",
       "         mean          0        0.00    2.4        5.0  \n",
       "...                  ...         ...    ...        ...  \n",
       "White    75%           0        1.75    3.0        4.5  \n",
       "         max           0        3.00    6.0        6.0  \n",
       "\n",
       "[48 rows x 16 columns]"
      ]
     },
     "execution_count": 771,
     "metadata": {},
     "output_type": "execute_result"
    }
   ],
   "source": [
    "# Count mana symbols\n",
    "\n",
    "manaSymbols = []\n",
    "\n",
    "manaSymbols = ['Blue', 'Black', 'Red', 'Green', 'White']\n",
    "manaVars = ['mana_' + _ for _ in manaSymbols]\n",
    "\n",
    "for i in xrange(len(manaSymbols)):\n",
    "    data[manaVars[i]] = [text.count(manaSymbols[i]) for text in data['manaCost']]\n",
    "    data[manaSymbols[i]] = [1 if text.count(manaSymbols[i]) > 0 else 0 for text in data['manaCost']]\n",
    "\n",
    "data.groupby(data['color']).describe().to_csv('colorSummary.csv')\n",
    "data.groupby(data['color']).describe()"
   ]
  },
  {
   "cell_type": "markdown",
   "metadata": {},
   "source": [
    "## (2b) -- Categorical features"
   ]
  },
  {
   "cell_type": "code",
   "execution_count": 772,
   "metadata": {
    "collapsed": false
   },
   "outputs": [],
   "source": [
    "# Create categorical features\n",
    "\n",
    "if categoricalFeatures:\n",
    "\n",
    "    data['Primary Type'] = [cardType[0] for cardType in data['cardType']]\n",
    "    \n",
    "    data = pd.concat([data, pd.get_dummies(data['Primary Type'])], axis=1)\n",
    "    data = pd.concat([data, pd.get_dummies(data['rarity'])], axis=1)\n",
    "\n",
    "    data.groupby(data['rarity']).describe().to_csv('byRarity.csv')\n",
    "    data.groupby(data['rarity']).describe()\n",
    "    \n",
    "    data.groupby(data['Primary Type']).describe().to_csv('byType.csv')\n",
    "    data.groupby(data['Primary Type']).describe()"
   ]
  },
  {
   "cell_type": "code",
   "execution_count": null,
   "metadata": {
    "collapsed": true
   },
   "outputs": [],
   "source": []
  },
  {
   "cell_type": "markdown",
   "metadata": {},
   "source": [
    "## (2c) -- Text features"
   ]
  },
  {
   "cell_type": "markdown",
   "metadata": {},
   "source": [
    "A helper function from `fuzzywuzzy` to find partial word matches in card text boxes:"
   ]
  },
  {
   "cell_type": "code",
   "execution_count": 773,
   "metadata": {
    "collapsed": false
   },
   "outputs": [],
   "source": [
    "def partialMatch(s, l, threshold=95):\n",
    "    fuzzVals = [fuzz.partial_ratio(s, x) for x in l]\n",
    "    if not fuzzVals: fuzzVals = [0]\n",
    "    return max(fuzzVals) >= threshold"
   ]
  },
  {
   "cell_type": "markdown",
   "metadata": {},
   "source": [
    "Based on domain knowledge, we'll fuzzy match if certain important words are in a card's text box that will give us a hint of what the card does."
   ]
  },
  {
   "cell_type": "code",
   "execution_count": 774,
   "metadata": {
    "collapsed": false
   },
   "outputs": [],
   "source": [
    "# Create text-based features\n",
    "\n",
    "if textFeatures:\n",
    "\n",
    "    data['Damage'] = [1 if partialMatch('damage', l) else 0 for l in data['cardText']]\n",
    "    data['Hand'] = [1 if partialMatch('hand', l) else 0 for l in data['cardText']]\n",
    "    data['Draw'] = [1 if partialMatch('draw', l, 80) else 0 for l in data['cardText']]\n",
    "    data['Upkeep'] = [1 if partialMatch('draw', l, 80) else 0 for l in data['cardText']]\n",
    "    data['Library'] = [1 if partialMatch('library', l) else 0 for l in data['cardText']]\n",
    "    data['Sacrifice'] = [1 if partialMatch('sacrifice', l) else 0 for l in data['cardText']]\n",
    "    data['Destroy'] = [1 if partialMatch('destroy', l) else 0 for l in data['cardText']]\n",
    "    data['Discard'] = [1 if partialMatch('discard', l) else 0 for l in data['cardText']]\n",
    "    data['Prevent'] = [1 if partialMatch('prevent', l) else 0 for l in data['cardText']]\n",
    "    data['Life'] = [1 if partialMatch('life', l) else 0 for l in data['cardText']]\n",
    "    data['Attack'] = [1 if partialMatch('attack', l) else 0 for l in data['cardText']]\n",
    "    data['Block'] = [1 if partialMatch('block', l) else 0 for l in data['cardText']]\n",
    "    data['Search'] = [1 if partialMatch('search', l) else 0 for l in data['cardText']]\n",
    "    data['Choose'] = [1 if partialMatch('choose', l) else 0 for l in data['cardText']]\n",
    "    data['Copy'] = [1 if partialMatch('copy', l) else 0 for l in data['cardText']]\n",
    "    data['Change'] = [1 if partialMatch('change', l) else 0 for l in data['cardText']]\n",
    "    data['Turn'] = [1 if partialMatch('turn', l) else 0 for l in data['cardText']]\n",
    "    data['End of turn'] = [1 if partialMatch('end of turn', l, 80) else 0 for l in data['cardText']]\n",
    "    data['Beginning of turn'] = [1 if partialMatch('beginning of turn', l, 80) else 0 for l in data['cardText']]\n",
    "    data['Spell ref'] = [1 if partialMatch('spell', l) else 0 for l in data['cardText']]\n",
    "    data['Creature ref'] = [1 if partialMatch('creature', l) else 0 for l in data['cardText']]\n",
    "    data['Land'] = [1 if partialMatch('land', l) else 0 for l in data['cardText']]\n",
    "    data['Mana'] = [1 if partialMatch('mana', l) else 0 for l in data['cardText']]\n",
    "    data['Battlefield'] = [1 if partialMatch('battlefield', l) else 0 for l in data['cardText']]\n",
    "    data['Blue ref'] = [1 if partialMatch('blue', l) else 0 for l in data['cardText']]\n",
    "    data['Black ref'] = [1 if partialMatch('black', l) else 0 for l in data['cardText']]\n",
    "    data['Green ref'] = [1 if partialMatch('green', l) else 0 for l in data['cardText']]\n",
    "    data['Red ref'] = [1 if partialMatch('red', l) else 0 for l in data['cardText']]\n",
    "    data['White ref'] = [1 if partialMatch('white', l) else 0 for l in data['cardText']]\n",
    "    data['Colorless ref'] = [1 if partialMatch('colorless', l) else 0 for l in data['cardText']]"
   ]
  },
  {
   "cell_type": "markdown",
   "metadata": {},
   "source": [
    "## (2d) -- Functional features"
   ]
  },
  {
   "cell_type": "code",
   "execution_count": 775,
   "metadata": {
    "collapsed": false
   },
   "outputs": [],
   "source": [
    "# 4. Special functional features\n",
    "\n",
    "def isBuff(str, l):\n",
    "    found = 0\n",
    "    for val in l:\n",
    "        if str in val:\n",
    "            found += 1\n",
    "    if found > 0: return True\n",
    "    else: return False\n",
    "\n",
    "if functionalFeatures:\n",
    "\n",
    "    data['Untap'] = [1 if partialMatch('untap', l) else 0 for l in data['cardText']]\n",
    "    data['All'] = [1 if partialMatch('all', l) | partialMatch('any', l) else 0 for l in data['cardText']]\n",
    "\n",
    "    data['Tap ability'] = [1 if 'Tap' in x else 0 for x in data['cardText']]\n",
    "    data['Mana symbol'] = [1 if anyIntOrColor(x) else 0 for x in data['cardText']]\n",
    "    data['Mana related'] = [1 if partialMatch('add mana', l) | partialMatch('your mana pool', l) \\\n",
    "                                  else 0 for l in data['cardText']]\n",
    "\n",
    "    data['Buff'] = [1 if isBuff('+', l) else 0 for l in data['cardText']]\n",
    "    data['Debuff'] = [1 if isBuff('-', l) else 0 for l in data['cardText']]"
   ]
  },
  {
   "cell_type": "markdown",
   "metadata": {},
   "source": [
    "## Note\n",
    "\n",
    "Some of this might have been able to be done automatically, especially the **text features**, which could have been done by finding the most common words referred to in text boxes. Again, I leave this to future work and am really curious about what the literature on automatic feature creation says about this."
   ]
  },
  {
   "cell_type": "markdown",
   "metadata": {},
   "source": [
    "# (3) -- Perform PCA\n",
    "\n",
    "Surprisingly, the PCA itself is the easiest part of this entire thing. We'll use `sklearn` to perform a 10-component PCA to see how much of the entire data's dimensional variation can be reduced to 10 dimensions."
   ]
  },
  {
   "cell_type": "code",
   "execution_count": 776,
   "metadata": {
    "collapsed": false,
    "scrolled": true
   },
   "outputs": [],
   "source": [
    "from sklearn.cluster import KMeans\n",
    "from sklearn.decomposition import PCA\n",
    "from sklearn.preprocessing import scale\n",
    "from sklearn.preprocessing import StandardScaler\n",
    "\n",
    "numericData = data.copy()\n",
    "# scale to mean 0, variance 1\n",
    "numericData_std = scale(numericData.fillna(0).select_dtypes(include=['float64', 'int64']))\n",
    "\n",
    "pca = PCA(n_components=10)\n",
    "Y_pca = pca.fit_transform(numericData_std)"
   ]
  },
  {
   "cell_type": "markdown",
   "metadata": {},
   "source": [
    "###So, how well did we do?\n",
    "\n",
    "Well, based on the explained variance vector below it doesn't look like we did very well. The first two principal components only combined for **14% of the total variance** in the data; though, of note, is that the first 10 factors do account for **44% of the total variance**. Considering we're working with a database of 64 features though, this is pretty decent."
   ]
  },
  {
   "cell_type": "code",
   "execution_count": 777,
   "metadata": {
    "collapsed": false
   },
   "outputs": [
    {
     "name": "stdout",
     "output_type": "stream",
     "text": [
      "\n",
      "Variance explained by each factor:\n",
      "[0.079, 0.061, 0.055, 0.051, 0.041, 0.038, 0.037, 0.036, 0.032, 0.03]\n",
      "\n",
      "Variance explained by all 10 factors:\n",
      "0.46\n",
      "\n",
      "Num features:\n",
      "64\n"
     ]
    }
   ],
   "source": [
    "# PCA analysis\n",
    "\n",
    "print\n",
    "print \"Variance explained by each factor:\"\n",
    "print [round(x, 3) for x in pca.explained_variance_ratio_]\n",
    "print\n",
    "print \"Variance explained by all 10 factors:\"\n",
    "print round(sum(pca.explained_variance_ratio_), 3)\n",
    "print\n",
    "print \"Num features:\"\n",
    "print len(numericData_std[0])"
   ]
  },
  {
   "cell_type": "markdown",
   "metadata": {},
   "source": [
    "# (4a) -- Visualize results\n",
    "\n",
    "Now time to see if it was all worth it -- and apply the PCA projection to our data set. We're going to make a scatterplot of all of our cards with the PCA two-dimensional projection applied grouped by card color."
   ]
  },
  {
   "cell_type": "code",
   "execution_count": 778,
   "metadata": {
    "collapsed": false,
    "scrolled": false
   },
   "outputs": [],
   "source": [
    "import plotly.plotly as py\n",
    "py.sign_in('nhuber', 'bmopo8hk40')\n",
    "from plotly.graph_objs import *\n",
    "import plotly.tools as tls\n",
    "\n",
    "# create the data to graph, grouped by card color\n",
    "\n",
    "traces = []\n",
    "colorSeries = {}\n",
    "\n",
    "for color in set(data['color']):\n",
    "\n",
    "    matches = []\n",
    "    for i in xrange(len(data['color'])):\n",
    "        if data['color'].irow(i) == color:\n",
    "            matches.append(i)\n",
    "    \n",
    "    graphColor = color\n",
    "    if color == 'White': graphColor = '#B2B2B2'\n",
    "    if color == 'Artifact': graphColor = '#996633'\n",
    "    if color == 'Red' : graphColor = '#E50000'\n",
    "    if color == 'Blue': graphColor = '#0000FF'\n",
    "    if color == 'Green' : graphColor = '#006400'\n",
    "    if color == 'Black' : graphColor = '#000000'\n",
    "    \n",
    "    trace = Scatter(\n",
    "        x=Y_pca[matches,0],\n",
    "        y=Y_pca[matches,1],\n",
    "        mode='text',\n",
    "        name=color,\n",
    "        marker=Marker(\n",
    "            size=12,\n",
    "            color=graphColor,\n",
    "            line=Line(\n",
    "                color='rgba(0, 0, 0, 0)',\n",
    "                width=1),\n",
    "            opacity=0.9),\n",
    "        text = data['cardName'].irow(matches),\n",
    "        textfont = Font(\n",
    "            family='Georgia',\n",
    "            size=8.5,\n",
    "            color=graphColor\n",
    "            )\n",
    "        )\n",
    "\n",
    "    colorSeries[color] = (Y_pca[matches,0], Y_pca[matches,0])\n",
    "    traces.append(trace)"
   ]
  },
  {
   "cell_type": "code",
   "execution_count": 779,
   "metadata": {
    "collapsed": true
   },
   "outputs": [],
   "source": [
    "# Set up the scatter plot layout\n",
    "\n",
    "dataToGraph = Data(traces)\n",
    "\n",
    "# auto-focus on where most of the data is clustered\n",
    "xRange = max(abs(np.percentile(np.array([x[0] for x in Y_pca]), 2.5)),\n",
    "                abs(np.percentile(np.array([x[0] for x in Y_pca]), 97.5)))\n",
    "yRange = max(abs(np.percentile(np.array([x[1] for x in Y_pca]), 2.5)),\n",
    "                abs(np.percentile(np.array([x[1] for x in Y_pca]), 97.5)))\n",
    "\n",
    "layout = Layout(title=\"PCA on MtG\",\n",
    "                titlefont=Font(family='Georgia', size=26),\n",
    "                showlegend = True,\n",
    "                autosize = False,\n",
    "                height = 600,\n",
    "                width = 700,\n",
    "                xaxis=XAxis(\n",
    "                    range=[-xRange, +xRange],\n",
    "                    title='PC1', showline=False),\n",
    "                yaxis=YAxis(\n",
    "                    range=[-yRange, +yRange],\n",
    "                    title='PC2', showline=False))"
   ]
  },
  {
   "cell_type": "markdown",
   "metadata": {},
   "source": [
    "### Let's graph this shiznit"
   ]
  },
  {
   "cell_type": "code",
   "execution_count": 780,
   "metadata": {
    "collapsed": false
   },
   "outputs": [
    {
     "data": {
      "text/html": [
       "<iframe id=\"igraph\" scrolling=\"no\" style=\"border:none;\"seamless=\"seamless\" src=\"https://plot.ly/~nhuber/233.embed\" height=\"525\" width=\"100%\"></iframe>"
      ],
      "text/plain": [
       "<plotly.tools.PlotlyDisplay object>"
      ]
     },
     "execution_count": 780,
     "metadata": {},
     "output_type": "execute_result"
    }
   ],
   "source": [
    "fig = Figure(data=dataToGraph, layout=layout)\n",
    "py.iplot(fig)"
   ]
  },
  {
   "cell_type": "markdown",
   "metadata": {},
   "source": [
    "Ok a few notes on this graph:\n",
    "- It's interactive: you can zoom into an area on the graph by dragging to create a rectangle\n",
    "- Also note that you can click the labels on the top right to turn on and off showing cards of different colors\n",
    "- It will probably have more meaning if you know about Magic and what each of these cards do; so, I'll offer my analysis below but if you do play and have alternate interpretations about how these cards are grouped, please do lmk\n",
    "- There appear to be two large clusters/corridors along diagonal to each axis\n",
    "- Cards of the same color are clustered in similar locations, whereas artifacts seem to be in their own space"
   ]
  },
  {
   "cell_type": "markdown",
   "metadata": {},
   "source": [
    "# (4b) -- Interpret Results"
   ]
  },
  {
   "cell_type": "markdown",
   "metadata": {
    "collapsed": false
   },
   "source": [
    "<img src=\"./pca2.png\">"
   ]
  },
  {
   "cell_type": "markdown",
   "metadata": {
    "collapsed": false
   },
   "source": [
    "\n",
    "## Result 1: A story of two psuedo-axes"
   ]
  },
  {
   "cell_type": "markdown",
   "metadata": {},
   "source": [
    "## Going through salient examples"
   ]
  },
  {
   "cell_type": "markdown",
   "metadata": {},
   "source": [
    "## Result 2: Exploring the color identities"
   ]
  },
  {
   "cell_type": "code",
   "execution_count": 781,
   "metadata": {
    "collapsed": false
   },
   "outputs": [
    {
     "ename": "SyntaxError",
     "evalue": "invalid syntax (<ipython-input-781-11667bdc7454>, line 6)",
     "output_type": "error",
     "traceback": [
      "\u001b[0;36m  File \u001b[0;32m\"<ipython-input-781-11667bdc7454>\"\u001b[0;36m, line \u001b[0;32m6\u001b[0m\n\u001b[0;31m    \u001b[0m\n\u001b[0m    ^\u001b[0m\n\u001b[0;31mSyntaxError\u001b[0m\u001b[0;31m:\u001b[0m invalid syntax\n"
     ]
    }
   ],
   "source": [
    "centers = {}\n",
    "\n",
    "for color in set(data['color']):\n",
    "    centers[color] = ( np.mean(colorSeries[color][0]), np.mean(colorSeries[color][1])\n",
    "\n",
    "    "
   ]
  },
  {
   "cell_type": "markdown",
   "metadata": {
    "collapsed": false
   },
   "source": [
    "# Conclusions and future work\n",
    "\n",
    "dfsf\n",
    "\n",
    "graph by type\n",
    "\n",
    "@nhuber | nicholas.e.huber@gmail.com"
   ]
  },
  {
   "cell_type": "markdown",
   "metadata": {},
   "source": [
    "<style>\n",
    "\n",
    ".p {\n",
    "    font-family: 'Georgia'\n",
    "}\n",
    "\n",
    "</style>"
   ]
  }
 ],
 "metadata": {
  "kernelspec": {
   "display_name": "Python 2",
   "language": "python",
   "name": "python2"
  },
  "language_info": {
   "codemirror_mode": {
    "name": "ipython",
    "version": 2
   },
   "file_extension": ".py",
   "mimetype": "text/x-python",
   "name": "python",
   "nbconvert_exporter": "python",
   "pygments_lexer": "ipython2",
   "version": "2.7.6"
  }
 },
 "nbformat": 4,
 "nbformat_minor": 0
}
